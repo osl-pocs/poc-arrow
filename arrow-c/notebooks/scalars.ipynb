{
 "cells": [
  {
   "cell_type": "code",
   "execution_count": 42,
   "id": "13ef05df",
   "metadata": {},
   "outputs": [
    {
     "name": "stdout",
     "output_type": "stream",
     "text": [
      "arrow 1.23 + arrow 4.56 = 5.790000\n",
      "done"
     ]
    }
   ],
   "source": [
    "//%cflags:-std=c99 -I/home/xmn/mambaforge/envs/poc-arrow/include -I/home/xmn/mambaforge/envs/poc-arrow/include/glib-2.0 -I/home/xmn/mambaforge/envs/poc-arrow/lib/glib-2.0/include -L/home/xmn/mambaforge/envs/poc-arrow/lib -larrow -larrow-glib\n",
    "#include <stdio.h>\n",
    "\n",
    "#include <arrow-glib/arrow-glib.h>\n",
    "#include <arrow-glib/scalar.h>\n",
    "\n",
    "int main() {\n",
    "    GArrowFloatScalar *scalar1 = garrow_float_scalar_new(1.23);\n",
    "    GArrowFloatScalar *scalar2 = garrow_float_scalar_new(4.56);\n",
    "    \n",
    "    g_print(\n",
    "        \"arrow 1.23 + arrow 4.56 = %f\\n\",\n",
    "        garrow_float_scalar_get_value(scalar1) + garrow_float_scalar_get_value(scalar2)\n",
    "\n",
    "    );\n",
    "    printf(\"done\");\n",
    "    return 0;\n",
    "}"
   ]
  },
  {
   "cell_type": "code",
   "execution_count": null,
   "id": "5117a57a",
   "metadata": {},
   "outputs": [],
   "source": []
  }
 ],
 "metadata": {
  "kernelspec": {
   "display_name": "C",
   "language": "c",
   "name": "c"
  },
  "language_info": {
   "file_extension": ".c",
   "mimetype": "text/plain",
   "name": "c"
  }
 },
 "nbformat": 4,
 "nbformat_minor": 5
}
