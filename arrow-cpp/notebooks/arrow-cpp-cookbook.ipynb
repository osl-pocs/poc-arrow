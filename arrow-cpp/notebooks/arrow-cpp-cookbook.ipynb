{
 "cells": [
  {
   "cell_type": "markdown",
   "id": "0408803d-79db-4b94-a556-a7c130742e77",
   "metadata": {},
   "source": [
    "# ArrowC++\n",
    "\n",
    "References\n",
    "https://arrow.apache.org/cookbook/cpp/basic.html"
   ]
  },
  {
   "cell_type": "code",
   "execution_count": 1,
   "id": "9db676d6-7a3f-4b9e-95b5-7ee5e9f868c7",
   "metadata": {
    "tags": []
   },
   "outputs": [],
   "source": [
    "#pragma cling add_include_path(\"/home/xmn/mambaforge/envs/poc-arrow/include\")\n",
    "#pragma cling add_library_path(\"/home/xmn/mambaforge/envs/poc-arrow/lib\")\n",
    "#pragma cling load(\"arrow\")"
   ]
  },
  {
   "cell_type": "code",
   "execution_count": 2,
   "id": "ac6361ad-275d-4edf-b564-07d85596c3a1",
   "metadata": {
    "tags": []
   },
   "outputs": [],
   "source": [
    "#include <iostream>\n",
    "\n",
    "#include <arrow/api.h>\n",
    "#include <arrow/scalar.h>"
   ]
  },
  {
   "cell_type": "code",
   "execution_count": 3,
   "id": "f4d80e38-e9d3-4da3-a3ac-a4558474e82d",
   "metadata": {
    "tags": []
   },
   "outputs": [],
   "source": [
    "/* simple test */\n",
    "arrow::BooleanScalar v1 = arrow::BooleanScalar(1);\n",
    "arrow::BooleanScalar v2 = arrow::BooleanScalar(0);"
   ]
  },
  {
   "cell_type": "markdown",
   "id": "880293e7-badd-498f-a68d-8077c3b8620f",
   "metadata": {},
   "source": [
    "**Checking the status of every function manually**"
   ]
  },
  {
   "cell_type": "code",
   "execution_count": 4,
   "id": "ab699c39-c238-40c2-936e-ea8202596a58",
   "metadata": {
    "tags": []
   },
   "outputs": [
    {
     "name": "stdout",
     "output_type": "stream",
     "text": [
      "Invalid: length must be positive\n"
     ]
    }
   ],
   "source": [
    "std::function<arrow::Status()> test_fn = [] {\n",
    "  arrow::NullBuilder builder;\n",
    "  arrow::Status st = builder.Reserve(2);\n",
    "  // Tedious return value check\n",
    "  if (!st.ok()) {\n",
    "    return st;\n",
    "  }\n",
    "  st = builder.AppendNulls(-1);\n",
    "  // Tedious return value check\n",
    "  if (!st.ok()) {\n",
    "    return st;\n",
    "  }\n",
    "  std::cout << \"Appended -1 null values?\" << std::endl;\n",
    "  return arrow::Status::OK();\n",
    "};\n",
    "arrow::Status st = test_fn();\n",
    "std::cout << st << std::endl;"
   ]
  },
  {
   "cell_type": "markdown",
   "id": "d90a3d7b-601b-4f06-9f64-80cb4b0abfe6",
   "metadata": {},
   "source": [
    "**Using ARROW_RETURN_NOT_OK to check the status**"
   ]
  },
  {
   "cell_type": "code",
   "execution_count": 5,
   "id": "0a0ad513-c8a8-42e2-9f88-3bcc6274561d",
   "metadata": {
    "tags": []
   },
   "outputs": [
    {
     "name": "stdout",
     "output_type": "stream",
     "text": [
      "Invalid: length must be positive\n"
     ]
    }
   ],
   "source": [
    "std::function<arrow::Status()> test_fn = [] {\n",
    "  arrow::NullBuilder builder;\n",
    "  ARROW_RETURN_NOT_OK(builder.Reserve(2));\n",
    "  ARROW_RETURN_NOT_OK(builder.AppendNulls(-1));\n",
    "  std::cout << \"Appended -1 null values?\" << std::endl;\n",
    "  return arrow::Status::OK();\n",
    "};\n",
    "arrow::Status st = test_fn();\n",
    "std::cout << st << std::endl;"
   ]
  }
 ],
 "metadata": {
  "kernelspec": {
   "display_name": "C++17",
   "language": "C++17",
   "name": "xcpp17"
  },
  "language_info": {
   "codemirror_mode": "text/x-c++src",
   "file_extension": ".cpp",
   "mimetype": "text/x-c++src",
   "name": "c++",
   "version": "17"
  }
 },
 "nbformat": 4,
 "nbformat_minor": 5
}
