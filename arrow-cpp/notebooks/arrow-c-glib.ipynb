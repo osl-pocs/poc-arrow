{
 "cells": [
  {
   "cell_type": "code",
   "execution_count": 1,
   "id": "b80c7447-b014-4689-adf4-afdbd2925314",
   "metadata": {
    "tags": []
   },
   "outputs": [],
   "source": [
    "#pragma cling add_include_path(\"/home/xmn/mambaforge/envs/poc-arrow/include\")\n",
    "#pragma cling add_include_path(\"/home/xmn/mambaforge/envs/poc-arrow/include/glib-2.0\")\n",
    "#pragma cling add_include_path(\"/home/xmn/mambaforge/envs/poc-arrow/lib/glib-2.0/include\")\n",
    "\n",
    "#pragma cling add_library_path(\"/home/xmn/mambaforge/envs/poc-arrow/lib\")\n",
    "\n",
    "#pragma cling load(\"arrow\")\n",
    "#pragma cling load(\"arrow-glib\")"
   ]
  },
  {
   "cell_type": "code",
   "execution_count": 2,
   "id": "cb2a557c-2ed3-460e-833e-f32c25fc2001",
   "metadata": {
    "tags": []
   },
   "outputs": [],
   "source": [
    "#include <arrow-glib/arrow-glib.h>"
   ]
  },
  {
   "cell_type": "code",
   "execution_count": 3,
   "id": "2910ef9b-35fa-41f6-aae7-187334021900",
   "metadata": {
    "tags": []
   },
   "outputs": [
    {
     "name": "stdout",
     "output_type": "stream",
     "text": [
      "The scalar integer value is: 42\n"
     ]
    }
   ],
   "source": [
    "gint32 myIntValue = 42;\n",
    "GArrowInt32Scalar* myIntScalar = garrow_int32_scalar_new(myIntValue);\n",
    "gint32 myIntResult = garrow_int32_scalar_get_value(myIntScalar);\n",
    "printf(\"The scalar integer value is: %d\\n\", myIntResult);"
   ]
  },
  {
   "cell_type": "code",
   "execution_count": 4,
   "id": "36f719b1-09be-408e-8f4b-a6307a6abf75",
   "metadata": {
    "tags": []
   },
   "outputs": [
    {
     "name": "stdout",
     "output_type": "stream",
     "text": [
      "Sum scalar value: 5.790000\n"
     ]
    }
   ],
   "source": [
    "// Create two float scalars\n",
    "GArrowFloatScalar *scalar1 = garrow_float_scalar_new(1.23);\n",
    "GArrowFloatScalar *scalar2 = garrow_float_scalar_new(4.56);\n",
    "\n",
    "// Get the values of the scalars\n",
    "gfloat value1 = garrow_float_scalar_get_value(scalar1);\n",
    "gfloat value2 = garrow_float_scalar_get_value(scalar2);\n",
    "\n",
    "// Add the two float values together\n",
    "gfloat sum = value1 + value2;\n",
    "\n",
    "// Create a new float scalar with the sum value\n",
    "GArrowFloatScalar *sum_scalar = garrow_float_scalar_new(sum);\n",
    "\n",
    "// Print the sum scalar value\n",
    "printf(\"Sum scalar value: %f\\n\", garrow_float_scalar_get_value(sum_scalar));\n",
    "\n",
    "// Free memory\n",
    "g_object_unref(scalar1);\n",
    "g_object_unref(scalar2);\n",
    "g_object_unref(sum_scalar);"
   ]
  }
 ],
 "metadata": {
  "kernelspec": {
   "display_name": "C++17",
   "language": "C++17",
   "name": "xcpp17"
  },
  "language_info": {
   "codemirror_mode": "text/x-c++src",
   "file_extension": ".cpp",
   "mimetype": "text/x-c++src",
   "name": "c++",
   "version": "17"
  }
 },
 "nbformat": 4,
 "nbformat_minor": 5
}
