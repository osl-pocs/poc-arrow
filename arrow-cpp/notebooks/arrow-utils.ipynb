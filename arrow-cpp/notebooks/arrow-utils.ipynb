{
 "cells": [
  {
   "cell_type": "code",
   "execution_count": 1,
   "id": "b80c7447-b014-4689-adf4-afdbd2925314",
   "metadata": {
    "tags": []
   },
   "outputs": [],
   "source": [
    "#pragma cling add_include_path(\"/home/xmn/mambaforge/envs/poc-arrow/include\")\n",
    "#pragma cling add_include_path(\"/home/xmn/mambaforge/envs/poc-arrow/include/glib-2.0\")\n",
    "#pragma cling add_include_path(\"/home/xmn/mambaforge/envs/poc-arrow/lib/glib-2.0/include\")\n",
    "\n",
    "#pragma cling add_library_path(\"/home/xmn/mambaforge/envs/poc-arrow/lib\")\n",
    "\n",
    "#pragma cling load(\"arrow\")\n",
    "#pragma cling load(\"arrow-glib\")"
   ]
  },
  {
   "cell_type": "code",
   "execution_count": 2,
   "id": "cb2a557c-2ed3-460e-833e-f32c25fc2001",
   "metadata": {
    "tags": []
   },
   "outputs": [],
   "source": [
    "#include <arrow-glib/arrow-glib.h>"
   ]
  },
  {
   "cell_type": "code",
   "execution_count": 3,
   "id": "cbd31fef-95a9-4fc4-9e29-3a172a744745",
   "metadata": {
    "tags": []
   },
   "outputs": [],
   "source": [
    "class ArxArrowFloat {\n",
    "public:\n",
    "  auto static add(GArrowFloatScalar* scalar1, GArrowFloatScalar* scalar2) -> GArrowFloatScalar* {\n",
    "    // Get the values of the scalars\n",
    "    gfloat value1 = garrow_float_scalar_get_value(scalar1);\n",
    "    gfloat value2 = garrow_float_scalar_get_value(scalar2);\n",
    "\n",
    "    // Add the two float values together\n",
    "    gfloat sum = value1 + value2;\n",
    "\n",
    "    // Create a new float scalar with the sum value\n",
    "    return garrow_float_scalar_new(sum);\n",
    "  }\n",
    "};\n",
    "\n",
    "class ArxArrowInt32 {\n",
    "public:\n",
    "  auto static add(GArrowInt32Scalar* scalar1, GArrowInt32Scalar* scalar2) -> GArrowInt32Scalar* {\n",
    "    // Get the values of the scalars\n",
    "    gint32 value1 = garrow_int32_scalar_get_value(scalar1);\n",
    "    gint32 value2 = garrow_int32_scalar_get_value(scalar2);\n",
    "\n",
    "    // Add the two float values together\n",
    "    gint32 sum = value1 + value2;\n",
    "\n",
    "    // Create a new float scalar with the sum value\n",
    "    return garrow_int32_scalar_new(sum);\n",
    "  }\n",
    "};\n",
    "\n",
    "class ArxArrow: public ArxArrowFloat, ArxArrowInt32 {\n",
    "public:\n",
    "  using ArxArrowFloat::add;\n",
    "  using ArxArrowInt32::add;\n",
    "};"
   ]
  },
  {
   "cell_type": "code",
   "execution_count": 7,
   "id": "496c53e4-fa45-41ae-83e9-b70b30b44094",
   "metadata": {
    "tags": []
   },
   "outputs": [
    {
     "name": "stdout",
     "output_type": "stream",
     "text": [
      "Sum scalar value: 5.790000\n",
      "Sum scalar value: 5\n"
     ]
    }
   ],
   "source": [
    "GArrowFloatScalar *scalar_float_1 = garrow_float_scalar_new(1.23);\n",
    "GArrowFloatScalar *scalar_float_2 = garrow_float_scalar_new(4.56);\n",
    "auto sum_scalar_float = ArxArrow::add(scalar_float_1, scalar_float_2);\n",
    "printf(\"Sum scalar value: %f\\n\", garrow_float_scalar_get_value(sum_scalar_float));\n",
    "\n",
    "GArrowInt32Scalar *scalar_int32_1 = garrow_int32_scalar_new(1);\n",
    "GArrowInt32Scalar *scalar_int32_2 = garrow_int32_scalar_new(4);float\n",
    "auto sum_scalar_int32 = ArxArrow::add(scalar_int32_1, scalar_int32_2);\n",
    "printf(\"Sum scalar value: %i\\n\", garrow_int32_scalar_get_value(sum_scalar_int32));"
   ]
  }
 ],
 "metadata": {
  "kernelspec": {
   "display_name": "C++17",
   "language": "C++17",
   "name": "xcpp17"
  },
  "language_info": {
   "codemirror_mode": "text/x-c++src",
   "file_extension": ".cpp",
   "mimetype": "text/x-c++src",
   "name": "c++",
   "version": "17"
  }
 },
 "nbformat": 4,
 "nbformat_minor": 5
}
